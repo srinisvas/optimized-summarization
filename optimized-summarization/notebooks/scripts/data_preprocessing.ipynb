{
  "cells": [
    {
      "cell_type": "code",
      "execution_count": 1,
      "id": "59f279df-4c9e-4637-93c1-7209f65650d8",
      "metadata": {
        "id": "59f279df-4c9e-4637-93c1-7209f65650d8"
      },
      "outputs": [],
      "source": [
        "import json\n",
        "import os\n",
        "import re\n",
        "from typing import Dict, Any, List"
      ]
    },
    {
      "cell_type": "code",
      "source": [
        "# ---------- Regex Definitions ----------\n",
        "BRACKETED_CITATION_RE = re.compile(\n",
        "    r\"\"\"\\[\n",
        "        \\s*\n",
        "        (?:\\d+(?:\\s*[-–]\\s*\\d+)?)\n",
        "        (?:\\s*,\\s*\\d+(?:\\s*[-–]\\s*\\d+)?)*\n",
        "        \\s*\n",
        "    \\]\"\"\",\n",
        "    re.VERBOSE,\n",
        ")\n",
        "\n",
        "PAREN_YEAR_CITATION_RE = re.compile(\n",
        "    r\"\"\"\\(\n",
        "        \\s*\n",
        "        (?:[A-Z][A-Za-z\\-\\.' ]+(?:et\\ al\\.)?,\\s*)?\n",
        "        (?:19|20)\\d{2}[a-z]?\n",
        "        (?:\\s*;\\s*(?:[A-Z][A-Za-z\\-\\.' ]+(?:et\\ al\\.)?,\\s*)?(?:19|20)\\d{2}[a-z]?)*\n",
        "        \\s*\n",
        "    \\)\"\"\",\n",
        "    re.VERBOSE,\n",
        ")\n",
        "\n",
        "LEADING_NUMBERING_RE = re.compile(\n",
        "    r\"\"\"^\\s*\n",
        "        (?:\n",
        "            (?:[IVXLCDM]+\\.?)|\n",
        "            (?:\\d+(?:\\.\\d+)*\\.?)|\n",
        "            (?:[A-Z]\\.?)|\n",
        "            (?:\\(?\\d+\\)?)\n",
        "        )\n",
        "        [\\s:)\\.-]*\n",
        "    \"\"\",\n",
        "    re.VERBOSE,\n",
        ")\n",
        "\n",
        "LINE_LEADING_ENUM_RE = re.compile(r\"(?m)^\\s*(?:[a-zA-Z]|\\d+)[\\)\\.]\\s+\")\n",
        "MULTISPACE_RE = re.compile(r\"[ \\t]+\")\n",
        "MULTINEWLINE_RE = re.compile(r\"\\n{3,}\")"
      ],
      "metadata": {
        "id": "c1CoA8VI-l-b"
      },
      "id": "c1CoA8VI-l-b",
      "execution_count": 2,
      "outputs": []
    },
    {
      "cell_type": "code",
      "source": [
        "def clean_heading(h: str) -> str:\n",
        "    if not h:\n",
        "        return \"\"\n",
        "    # skip headings that are just citation lists like [32][33]\n",
        "    if re.fullmatch(r\"(?:\\s*\\[\\s*\\d+(?:\\s*[-–]\\s*\\d+)?\\s*\\]\\s*){2,}\", h or \"\"):\n",
        "        return \"\"\n",
        "    cleaned = LEADING_NUMBERING_RE.sub(\"\", h).strip(\" :.-\\u2013\\u2014\")\n",
        "    return cleaned if cleaned else h.strip()"
      ],
      "metadata": {
        "id": "Vw_Sq-ak-zuf"
      },
      "id": "Vw_Sq-ak-zuf",
      "execution_count": 3,
      "outputs": []
    },
    {
      "cell_type": "code",
      "source": [
        "def clean_text(t: str) -> str:\n",
        "    if not t:\n",
        "        return \"\"\n",
        "    t = BRACKETED_CITATION_RE.sub(\"\", t)\n",
        "    t = PAREN_YEAR_CITATION_RE.sub(\"\", t)\n",
        "    t = re.sub(r\"\\[\\s*\\]\", \"\", t)\n",
        "    t = LINE_LEADING_ENUM_RE.sub(\"\", t)\n",
        "    t = MULTISPACE_RE.sub(\" \", t)\n",
        "    t = t.replace(\"\\r\\n\", \"\\n\").replace(\"\\r\", \"\\n\")\n",
        "    t = MULTINEWLINE_RE.sub(\"\\n\\n\", t)\n",
        "    return t.strip()"
      ],
      "metadata": {
        "id": "La7fgSba-44x"
      },
      "id": "La7fgSba-44x",
      "execution_count": 4,
      "outputs": []
    },
    {
      "cell_type": "code",
      "source": [
        "def simplify_paper(paper: Dict[str, Any]) -> Dict[str, Any]:\n",
        "    title = paper.get(\"title\", \"\").strip()\n",
        "    out_sections: List[Dict[str, str]] = []\n",
        "\n",
        "    # include abstract as section if present\n",
        "    abstract = (paper.get(\"abstract\") or \"\").strip()\n",
        "    if abstract:\n",
        "        out_sections.append({\"title\": \"Abstract\", \"content\": clean_text(abstract)})\n",
        "\n",
        "    for sec in paper.get(\"sections\", []):\n",
        "        heading = clean_heading(sec.get(\"heading\", \"\"))\n",
        "        if heading.lower() in {\"references\", \"reference\", \"bibliography\"}:\n",
        "            continue\n",
        "        text = clean_text(sec.get(\"text\", \"\"))\n",
        "        if (heading and heading.strip()) or (text and text.strip()):\n",
        "            out_sections.append({\"title\": heading or \"Section\", \"content\": text})\n",
        "\n",
        "    return {\"title\": title, \"sections\": out_sections}"
      ],
      "metadata": {
        "id": "dlB8gvyc_DCj"
      },
      "id": "dlB8gvyc_DCj",
      "execution_count": 5,
      "outputs": []
    }
  ],
  "metadata": {
    "kernelspec": {
      "display_name": "Python 3 (ipykernel)",
      "language": "python",
      "name": "python3"
    },
    "language_info": {
      "codemirror_mode": {
        "name": "ipython",
        "version": 3
      },
      "file_extension": ".py",
      "mimetype": "text/x-python",
      "name": "python",
      "nbconvert_exporter": "python",
      "pygments_lexer": "ipython3",
      "version": "3.10.0"
    },
    "colab": {
      "provenance": []
    }
  },
  "nbformat": 4,
  "nbformat_minor": 5
}