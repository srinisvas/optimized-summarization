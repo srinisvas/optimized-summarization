{
  "cells": [
    {
      "cell_type": "code",
      "execution_count": 1,
      "id": "59f279df-4c9e-4637-93c1-7209f65650d8",
      "metadata": {
        "id": "59f279df-4c9e-4637-93c1-7209f65650d8"
      },
      "outputs": [],
      "source": [
        "import json\n",
        "import os\n",
        "import re\n",
        "from typing import Dict, Any, List"
      ]
    },
    {
      "cell_type": "code",
      "source": [
        "from google.colab import drive\n",
        "drive.mount('/content/drive')"
      ],
      "metadata": {
        "id": "mIPgIyg3HwYT",
        "outputId": "7765f6d9-f321-4756-8ade-0a5eb909cd0d",
        "colab": {
          "base_uri": "https://localhost:8080/"
        }
      },
      "id": "mIPgIyg3HwYT",
      "execution_count": 6,
      "outputs": [
        {
          "output_type": "stream",
          "name": "stdout",
          "text": [
            "Mounted at /content/drive\n"
          ]
        }
      ]
    },
    {
      "cell_type": "code",
      "source": [
        "!git clone https://github.com/srinisvas/optimized-summarization.git"
      ],
      "metadata": {
        "id": "da5VBzdcH-ty",
        "outputId": "cff8fa75-0a25-4220-d585-d98846e269ba",
        "colab": {
          "base_uri": "https://localhost:8080/"
        }
      },
      "id": "da5VBzdcH-ty",
      "execution_count": 8,
      "outputs": [
        {
          "output_type": "stream",
          "name": "stdout",
          "text": [
            "fatal: destination path 'optimized-summarization' already exists and is not an empty directory.\n"
          ]
        }
      ]
    },
    {
      "cell_type": "code",
      "source": [
        "!cp -r optimized-summarization/ /content/drive/MyDrive/optimized-summarization\n",
        "INPUT_DIR = '/content/drive/MyDrive/optimized-summarization/optimized-summarization/papers_json/'"
      ],
      "metadata": {
        "id": "w2M2emZDISLW"
      },
      "id": "w2M2emZDISLW",
      "execution_count": 12,
      "outputs": []
    },
    {
      "cell_type": "code",
      "source": [
        "# ---------- Regex Definitions ----------\n",
        "BRACKETED_CITATION_RE = re.compile(\n",
        "    r\"\"\"\\[\n",
        "        \\s*\n",
        "        (?:\\d+(?:\\s*[-–]\\s*\\d+)?)\n",
        "        (?:\\s*,\\s*\\d+(?:\\s*[-–]\\s*\\d+)?)*\n",
        "        \\s*\n",
        "    \\]\"\"\",\n",
        "    re.VERBOSE,\n",
        ")\n",
        "\n",
        "PAREN_YEAR_CITATION_RE = re.compile(\n",
        "    r\"\"\"\\(\n",
        "        \\s*\n",
        "        (?:[A-Z][A-Za-z\\-\\.' ]+(?:et\\ al\\.)?,\\s*)?\n",
        "        (?:19|20)\\d{2}[a-z]?\n",
        "        (?:\\s*;\\s*(?:[A-Z][A-Za-z\\-\\.' ]+(?:et\\ al\\.)?,\\s*)?(?:19|20)\\d{2}[a-z]?)*\n",
        "        \\s*\n",
        "    \\)\"\"\",\n",
        "    re.VERBOSE,\n",
        ")\n",
        "\n",
        "LEADING_NUMBERING_RE = re.compile(\n",
        "    r\"\"\"^\\s*\n",
        "        (?:\n",
        "            (?:[IVXLCDM]+\\.?)|\n",
        "            (?:\\d+(?:\\.\\d+)*\\.?)|\n",
        "            (?:[A-Z]\\.?)|\n",
        "            (?:\\(?\\d+\\)?)\n",
        "        )\n",
        "        [\\s:)\\.-]*\n",
        "    \"\"\",\n",
        "    re.VERBOSE,\n",
        ")\n",
        "\n",
        "LINE_LEADING_ENUM_RE = re.compile(r\"(?m)^\\s*(?:[a-zA-Z]|\\d+)[\\)\\.]\\s+\")\n",
        "MULTISPACE_RE = re.compile(r\"[ \\t]+\")\n",
        "MULTINEWLINE_RE = re.compile(r\"\\n{3,}\")"
      ],
      "metadata": {
        "id": "c1CoA8VI-l-b"
      },
      "id": "c1CoA8VI-l-b",
      "execution_count": 2,
      "outputs": []
    },
    {
      "cell_type": "code",
      "source": [
        "def clean_heading(h: str) -> str:\n",
        "    if not h:\n",
        "        return \"\"\n",
        "    # skip headings that are just citation lists like [32][33]\n",
        "    if re.fullmatch(r\"(?:\\s*\\[\\s*\\d+(?:\\s*[-–]\\s*\\d+)?\\s*\\]\\s*){2,}\", h or \"\"):\n",
        "        return \"\"\n",
        "    cleaned = LEADING_NUMBERING_RE.sub(\"\", h).strip(\" :.-\\u2013\\u2014\")\n",
        "    return cleaned if cleaned else h.strip()"
      ],
      "metadata": {
        "id": "Vw_Sq-ak-zuf"
      },
      "id": "Vw_Sq-ak-zuf",
      "execution_count": 3,
      "outputs": []
    },
    {
      "cell_type": "code",
      "source": [
        "def clean_text(t: str) -> str:\n",
        "    if not t:\n",
        "        return \"\"\n",
        "    t = BRACKETED_CITATION_RE.sub(\"\", t)\n",
        "    t = PAREN_YEAR_CITATION_RE.sub(\"\", t)\n",
        "    t = re.sub(r\"\\[\\s*\\]\", \"\", t)\n",
        "    t = LINE_LEADING_ENUM_RE.sub(\"\", t)\n",
        "    t = MULTISPACE_RE.sub(\" \", t)\n",
        "    t = t.replace(\"\\r\\n\", \"\\n\").replace(\"\\r\", \"\\n\")\n",
        "    t = MULTINEWLINE_RE.sub(\"\\n\\n\", t)\n",
        "    return t.strip()"
      ],
      "metadata": {
        "id": "La7fgSba-44x"
      },
      "id": "La7fgSba-44x",
      "execution_count": 4,
      "outputs": []
    },
    {
      "cell_type": "code",
      "source": [
        "def simplify_paper(paper: Dict[str, Any]) -> Dict[str, Any]:\n",
        "    title = paper.get(\"title\", \"\").strip()\n",
        "    out_sections: List[Dict[str, str]] = []\n",
        "\n",
        "    # include abstract as section if present\n",
        "    abstract = (paper.get(\"abstract\") or \"\").strip()\n",
        "    if abstract:\n",
        "        out_sections.append({\"title\": \"Abstract\", \"content\": clean_text(abstract)})\n",
        "\n",
        "    for sec in paper.get(\"sections\", []):\n",
        "        heading = clean_heading(sec.get(\"heading\", \"\"))\n",
        "        if heading.lower() in {\"references\", \"reference\", \"bibliography\"}:\n",
        "            continue\n",
        "        text = clean_text(sec.get(\"text\", \"\"))\n",
        "        if (heading and heading.strip()) or (text and text.strip()):\n",
        "            out_sections.append({\"title\": heading or \"Section\", \"content\": text})\n",
        "\n",
        "    return {\"title\": title, \"sections\": out_sections}"
      ],
      "metadata": {
        "id": "dlB8gvyc_DCj"
      },
      "id": "dlB8gvyc_DCj",
      "execution_count": 5,
      "outputs": []
    },
    {
      "cell_type": "code",
      "source": [
        "cleaned_papers = {}\n",
        "for filename in os.listdir(INPUT_DIR):\n",
        "    if filename.endswith(\".json\"):\n",
        "        full_path = os.path.join(INPUT_DIR, filename)\n",
        "        try:\n",
        "            with open(full_path, \"r\", encoding=\"utf-8\") as f:\n",
        "                data = json.load(f)\n",
        "            cleaned_papers[filename] = simplify_paper(data)\n",
        "            print(f\"Cleaned: {filename}\")\n",
        "        except Exception as e:\n",
        "            print(f\"Error processing {filename}: {e}\")\n",
        "\n",
        "example_key = next(iter(cleaned_papers))\n",
        "print(json.dumps(cleaned_papers[example_key], indent=2)[:1500])"
      ],
      "metadata": {
        "id": "pf-7rQ9fIeBn",
        "outputId": "d2539b63-61ff-4af6-c72e-f529c28f636c",
        "colab": {
          "base_uri": "https://localhost:8080/"
        }
      },
      "id": "pf-7rQ9fIeBn",
      "execution_count": 15,
      "outputs": [
        {
          "output_type": "stream",
          "name": "stdout",
          "text": [
            "Cleaned: A Bibliometric View of AI Ethics Development.json\n",
            "Cleaned: A Model for Using Ethical Theory to Specify Epistemic Goals for Explainable AI.json\n",
            "Cleaned: A Privacy Impact Assessment Tool for Cloud Computing.json\n",
            "Cleaned: A Privacy Maturity Model for Cloud Storage Services.json\n",
            "Cleaned: A Privacy-Leakage-Tolerance Based Noise Enhancing Strategy for Privacy Protection in Cloud Computing.json\n",
            "Cleaned: A novel framework to prevent privacy breach in cloud data storage area service.json\n",
            "Cleaned: A privacy-preserving mechanism based on local differential privacy in edge computing.json\n",
            "Cleaned: AI Ethics Impact Assessment based on Requirement Engineering.json\n",
            "Cleaned: AI Ethics and Data Privacy compliance.json\n",
            "Cleaned: AI Ethics in Healthcare - A Survey.json\n",
            "Cleaned: AI Ethics in IoT Involving Society in the Discussion.json\n",
            "Cleaned: AI Governance A General Perspective.json\n",
            "Cleaned: AI Governance and Ethics in Public Procurement Bridging the Gap Between Theory and Practice.json\n",
            "Cleaned: AI Model Training Data Privacy Protection Scheme Based on Local Differential Privacy.json\n",
            "Cleaned: AI and Data Privacy in Business.json\n",
            "Cleaned: AI-Generated Privacy-Preserving Protocols for Cross-Cloud Data Sharing and Collaboration.json\n",
            "Cleaned: Advanced Techniques for Protecting Privacy in Artificial Intelligence Powered Medical Systems.json\n",
            "Cleaned: Advancing AI Ethics in Engineering Curricula in Europe A Case Study Approach.json\n",
            "Cleaned: Advancing Ethical AI A Methodological and Empirical Approach to the AI Moral Code.json\n",
            "Cleaned: An Analysis of Security and Privacy Issues in Smart Grid Software Architectures on Clouds.json\n",
            "Cleaned: An approach for privacy policies negotiation in mobile health-Cloud environments.json\n",
            "Cleaned: An overview of privacy preserving schemes for industrial Internet of Things.json\n",
            "Cleaned: Applying Communication Privacy Management Theory to Youth Privacy Management in AI Contexts.json\n",
            "Cleaned: Are science- technology- and engineering now the most important subjects for ethics- Our need to respond.json\n",
            "Cleaned: Artificial Intelligence Ethics Anthropocentric Approach.json\n",
            "Cleaned: Bridging Industry- Government- and Academia for Socially Responsible AI The CSEAI Initiative.json\n",
            "Cleaned: CenterYou-- Lightweight Privacy Enforcement for Android Using Hybrid AI and Cloud Decision Support.json\n",
            "Cleaned: Cloud intelligent track - Risk analysis and privacy data management in the cloud computing.json\n",
            "Cleaned: Comparison of Privacy-Preserving Models Based on a Third-Party Auditor in Cloud Computing.json\n",
            "Cleaned: Computer Science Ethics Education in Australia - A Work in Progress.json\n",
            "Cleaned: Deep Learning Framework with Explainable AI for Accurate and Interpretable Brain Tumor Segmentation.json\n",
            "Cleaned: Designing Artificial Intelligence with Privacy at the Center.json\n",
            "Cleaned: Differential Privacy and k-Anonymity-Based Privacy Preserving Data Publishing Scheme With Minimal Loss of Statistical Information.json\n",
            "Cleaned: Distributed- Privacy-Aware Location Data Aggregation.json\n",
            "Cleaned: ETHAI implementation. A Co-Constructive way for Embedding Ethics in Healthcare AI Development.json\n",
            "Cleaned: Efficient Framework Approach to Extract Privacy Issues in Cloud Computing.json\n",
            "Cleaned: Enhancing Data Privacy in Edge-based Driver AI Monitoring Systems Through Adaptive Differential Privacy.json\n",
            "Cleaned: Enhancing Healthcare Data Security and Privacy through AI-Driven Encryption and Privacy-Preserving Techniques.json\n",
            "Cleaned: Ethical AI Conundrum Accountability and Liability of AI decision making.json\n",
            "Cleaned: Ethical AI Towards Defining a Collective Evaluation Framework.json\n",
            "Cleaned: Ethical and Legal Implications of AI on Business and Employment Privacy- Bias- and Accountability.json\n",
            "Cleaned: Ethics Documents in the Field of AI. Concepts- Achievements and Problems.json\n",
            "Cleaned: Ethics and Biomedical engineering education The continual defiance.json\n",
            "Cleaned: Ethics and military engineering operations.json\n",
            "Cleaned: Ethics in the Future of AI - A Philosophical Perspective for Collaborative Human and Machine Learning Know-What and Know-How.json\n",
            "Cleaned: Ethics of AI as practical ethics.json\n",
            "Cleaned: Ethics of Artificial Intelligence for Cultural Heritage Opportunities and Challenges.json\n",
            "Cleaned: Ethics of Artificial Intelligence in University Education.json\n",
            "Cleaned: Ethics- Privacy- and Security Challenges in AI and Blockchain-Driven Digital Health Ecosystems.json\n",
            "Cleaned: Explainable AI and Big Data Analytics for Data Security Risk and Privacy Issues in the Financial Industry.json\n",
            "Cleaned: Exploring Translational Ethical Competency -TEC- in AI Design Conceptual Analysis and Methodological Reflections from a Pilot Study.json\n",
            "Cleaned: Exploring the Privacy Paradox in AI Adoption A Data-Driven Analysis of User Engagement.json\n",
            "Cleaned: Factors influencing information privacy concern in cloud computing environment.json\n",
            "Cleaned: Fuzzy-based Encryption Mechanism for Privacy Preservation and Evaluation of Query Response Time in Cloud.json\n",
            "Cleaned: Guidelines to Develop AI Ethics Policy in Organizations Perspectives Informed from Two Different Countries- Laws.json\n",
            "Cleaned: Imagine a More Ethical AI Using Stories to Develop Teens- Awareness and Understanding of Artificial Intelligence and its Societal Impacts.json\n",
            "Cleaned: Impact of AI Driven Predictive Privacy Mechanisms in UAV Integrated V2X 6G Networks.json\n",
            "Cleaned: Implementing AI Ethics in the Design of AI-assisted Rescue Robots.json\n",
            "Cleaned: Interaction between ethics and technology.json\n",
            "Cleaned: Introducing graduate and undergraduate students to research and professional ethics at Columbia University.json\n",
            "Cleaned: Introducing the concept of ikigai to the ethics of AI and of human enhancements.json\n",
            "Cleaned: Methodological Reflections on Designing Surveys to Explore Faculty and Administrator Perceptions of AI Ethics Education.json\n",
            "Cleaned: Mitigating Values Debt in Generative AI Responsible Engineering with Graph RAG.json\n",
            "Cleaned: Narrative-Based AI Ethics Education for Emerging Technologies Leveraging -The Monkey-s Paw- for AI Alignment and Social Justice.json\n",
            "Cleaned: On current trends in security and privacy of cloud computing.json\n",
            "Cleaned: PRIV-ML Analyzing Privacy Loss in Iterative Machine Learning with Differential Privacy.json\n",
            "Cleaned: PccP A model for Preserving cloud computing Privacy.json\n",
            "Cleaned: Perceptions of AI Ethics on Social Media.json\n",
            "Cleaned: Preserving privacy in medical images while still enabling AI-driven research A comprehensive review.json\n",
            "Cleaned: Press Release Ethics in AI Performative Ethics in for-Profit AI Companies.json\n",
            "Cleaned: Privacy Preserving Data Integration across Autonomous Cloud Services.json\n",
            "Cleaned: Privacy Preserving Data Sharing in Cloud Using EAE Technique.json\n",
            "Cleaned: Privacy Smells Detecting Privacy Problems in Cloud Architectures.json\n",
            "Cleaned: Privacy and Copyright Protection in Generative AI A Lifecycle Perspective.json\n",
            "Cleaned: Privacy protected documents on openstack cloud.json\n",
            "Cleaned: Privacy-Diffusion Privacy-Preserving Stable Diffusion Without Homomorphic Encryption.json\n",
            "Cleaned: Privacy-Preserved Mobile Sensing through Hybrid Cloud Trust Framework.json\n",
            "Cleaned: Privacy-Preserving Data Dissemination in Untrusted Cloud.json\n",
            "Cleaned: Privacy-Preserving Keyword Search Schemes over Encrypted Cloud Data An Extensive Analysis.json\n",
            "Cleaned: Real-Time Air Quality Monitoring with Edge AI and Machine Learning Algorithm.json\n",
            "Cleaned: Research on Data Encryption and Privacy Protection Technologies in Cloud Computing Environments.json\n",
            "Cleaned: Robust and Secure Federated Learning With Verifiable Differential Privacy.json\n",
            "Cleaned: SDG-Based AI Ethics An Analysis of Recent Computer Vision Research.json\n",
            "Cleaned: Security and Privacy Challenges in Multi-Tenant Cloud Architectures A Comprehensive Analysis.json\n",
            "Cleaned: Security and Privacy Issues within the Cloud Computing.json\n",
            "Cleaned: Software Defined Privacy.json\n",
            "Cleaned: Speech Act Theory and Ethics of Speech Processing as Distinct Stages the ethics of collecting- contextualizing and the releasing of -speech- data.json\n",
            "Cleaned: StopHateForProfit and the ethics of boycotting by corporations.json\n",
            "Cleaned: Teaching AI Ethics in Technical and Professional Communication A Systematic Review.json\n",
            "Cleaned: The Ethics of AI in Games.json\n",
            "Cleaned: The Ethics of AI in Literature Reflections On Representation and Responsibility.json\n",
            "Cleaned: The IEEE Global Initiative on Ethics of Extended Reality -XR- Report--Extended Reality -XR- Ethics in Medicine.json\n",
            "Cleaned: The Limits of Care A Critical Analysis of AI Companions- Capacity for Good Care.json\n",
            "Cleaned: The Perspective of Dimensional Perpetuity for Artificial Intelligence A Model on Socio-Legal and Political Evolution as a Challenge to Entrepreneurial Ethics.json\n",
            "Cleaned: The potential for co-operatives to mitigate AI ethics catastrophes perspectives from media analysis.json\n",
            "Cleaned: The privacy-aware access control system using attribute-and role-based access control in private cloud.json\n",
            "Cleaned: Thou shalt not-A look at the ethics of copying software code.json\n",
            "Cleaned: Towards a Stakeholder-Oriented Taxonomical Approach for Secure Cloud Computing.json\n",
            "Cleaned: Towards a global Code of Ethics for engineers.json\n",
            "Cleaned: Trading-Off Privacy- Utility- and Explainability in Deep Learning-Based Image Data Analysis.json\n",
            "Cleaned: Trust Me Over My Privacy Policy- Privacy Discrepancies in Romantic AI Chatbot Apps.json\n",
            "Cleaned: Understanding How Privacy and Data Protection Perceptions Shape Nigerian Journalists- Use of AI Tools A Work in Progress.json\n",
            "Cleaned: Unpacking Youth Privacy Management in AI Systems A Privacy Calculus Model Analysis.json\n",
            "Cleaned: WIP Using Stories from Traditional Culture to Teach Virtue-Based Engineering Ethics.json\n",
            "{\n",
            "  \"title\": \"A Bibliometric View of AI Ethics Development\",\n",
            "  \"sections\": [\n",
            "    {\n",
            "      \"title\": \"Abstract\",\n",
            "      \"content\": \"Artificial Intelligence (AI) Ethics is a nascent yet critical research field. Recent developments in generative AI and foundational models necessitate a renewed look at the problem of AI Ethics. In this study, we perform a bibliometric analysis of AI Ethics literature for the last 20 years based on keyword search. Our study reveals a three-phase development in AI Ethics, namely an incubation phase, making AI human-like machines phase, and making AI human-centric machines phase. We conjecture that the next phase of AI ethics is likely to focus on making AI more machine-like as AI matches or surpasses humans intellectually, a term we coin as \\\"machine-like human\\\".\"\n",
            "    },\n",
            "    {\n",
            "      \"title\": \"INTRODUCTION\",\n",
            "      \"content\": \"Artificial Intelligence (AI) Ethics is the study of the ethical and responsible development and deployment of AI technology. Our bibliometric analysis of AI Ethics literature published between 2004 and 2023 points us to a three-phase development: 1. Incubation; 2. Making AI human-like machines; 3. Making AI human-centric machines.\\nThis article contributes to AI Ethics discussions with unique insights based on keyword usage patterns. It also contrasts \\\"human-like machine\\\", \\\"human-centric machine\\\", and \\\"machine-like human\\\", which represent the past, current, and potential future phases of AI Ethics development.\"\n",
            "    },\n",
            "    {\n"
          ]
        }
      ]
    }
  ],
  "metadata": {
    "kernelspec": {
      "display_name": "Python 3 (ipykernel)",
      "language": "python",
      "name": "python3"
    },
    "language_info": {
      "codemirror_mode": {
        "name": "ipython",
        "version": 3
      },
      "file_extension": ".py",
      "mimetype": "text/x-python",
      "name": "python",
      "nbconvert_exporter": "python",
      "pygments_lexer": "ipython3",
      "version": "3.10.0"
    },
    "colab": {
      "provenance": [],
      "toc_visible": true
    }
  },
  "nbformat": 4,
  "nbformat_minor": 5
}