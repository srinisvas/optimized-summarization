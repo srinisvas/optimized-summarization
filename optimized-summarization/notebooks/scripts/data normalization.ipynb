{
  "nbformat": 4,
  "nbformat_minor": 0,
  "metadata": {
    "colab": {
      "provenance": []
    },
    "kernelspec": {
      "name": "python3",
      "display_name": "Python 3"
    },
    "language_info": {
      "name": "python"
    }
  },
  "cells": [
    {
      "cell_type": "code",
      "execution_count": 1,
      "metadata": {
        "colab": {
          "base_uri": "https://localhost:8080/"
        },
        "id": "XVBHh7rlvtbr",
        "outputId": "d318b835-901b-4f26-f74b-a45d8841eb8f"
      },
      "outputs": [
        {
          "output_type": "stream",
          "name": "stdout",
          "text": [
            "Mounted at /content/drive\n"
          ]
        }
      ],
      "source": [
        "from google.colab import drive\n",
        "drive.mount('/content/drive')\n"
      ]
    },
    {
      "cell_type": "code",
      "source": [
        "import os\n",
        "\n",
        "repo_path = '/content/optimized-summarization'\n",
        "if not os.path.exists(repo_path):\n",
        "    !git clone https://github.com/srinisvas/optimized-summarization.git\n",
        "else:\n",
        "    print(\"Repo already exists, skipping clone.\")\n",
        "\n",
        "# Check files inside\n",
        "os.listdir(repo_path)\n"
      ],
      "metadata": {
        "colab": {
          "base_uri": "https://localhost:8080/"
        },
        "id": "UJttvwQIxKnf",
        "outputId": "ef71b1ee-9f5d-4460-c6f0-7af0f891cf13"
      },
      "execution_count": 2,
      "outputs": [
        {
          "output_type": "stream",
          "name": "stdout",
          "text": [
            "Cloning into 'optimized-summarization'...\n",
            "remote: Enumerating objects: 276, done.\u001b[K\n",
            "remote: Counting objects: 100% (150/150), done.\u001b[K\n",
            "remote: Compressing objects: 100% (149/149), done.\u001b[K\n",
            "remote: Total 276 (delta 24), reused 111 (delta 1), pack-reused 126 (from 2)\u001b[K\n",
            "Receiving objects: 100% (276/276), 84.25 MiB | 37.89 MiB/s, done.\n",
            "Resolving deltas: 100% (26/26), done.\n"
          ]
        },
        {
          "output_type": "execute_result",
          "data": {
            "text/plain": [
              "['optimized-summarization', '.idea', '.git', 'README.md']"
            ]
          },
          "metadata": {},
          "execution_count": 2
        }
      ]
    },
    {
      "cell_type": "markdown",
      "source": [],
      "metadata": {
        "id": "Co_pVU2PxNwT"
      }
    },
    {
      "cell_type": "code",
      "source": [
        "INPUT_DIR = '/content/optimized-summarization/optimized-summarization/papers_json/'\n",
        "OUTPUT_DIR = '/content/optimized-summarization/normalized_papers/'\n",
        "\n",
        "import os\n",
        "os.makedirs(OUTPUT_DIR, exist_ok=True)\n",
        "\n",
        "# Verify files\n",
        "print(\"Input files:\", os.listdir(INPUT_DIR)[:5])\n",
        "print(\"Output folder will be:\", OUTPUT_DIR)\n"
      ],
      "metadata": {
        "colab": {
          "base_uri": "https://localhost:8080/"
        },
        "id": "do37qYjNyFLv",
        "outputId": "a83cbea9-aaf1-4663-d63b-8b1ee3bf3238"
      },
      "execution_count": 4,
      "outputs": [
        {
          "output_type": "stream",
          "name": "stdout",
          "text": [
            "Input files: ['Trading-Off Privacy- Utility- and Explainability in Deep Learning-Based Image Data Analysis.json', 'Privacy-Preserved Mobile Sensing through Hybrid Cloud Trust Framework.json', 'AI Ethics in Healthcare - A Survey.json', 'WIP Using Stories from Traditional Culture to Teach Virtue-Based Engineering Ethics.json', 'Exploring Translational Ethical Competency -TEC- in AI Design Conceptual Analysis and Methodological Reflections from a Pilot Study.json']\n",
            "Output folder will be: /content/optimized-summarization/normalized_papers/\n"
          ]
        }
      ]
    },
    {
      "cell_type": "code",
      "source": [
        "import re\n",
        "import json\n",
        "from typing import Dict, Any, List\n",
        "\n",
        "# ---------- Regex Definitions ----------\n",
        "BRACKETED_CITATION_RE = re.compile(r'\\[\\s*\\d+(?:[\\-,]\\s*\\d+)*\\s*\\]')\n",
        "PAREN_YEAR_CITATION_RE = re.compile(r'\\([A-Z][^)]*\\d{4}[^)]*\\)')\n",
        "LEADING_NUMBERING_RE = re.compile(r'^\\s*(?:[IVXLCDM]+\\.?|\\d+(?:\\.\\d+)*\\.?|[A-Z]\\.?|\\(?\\d+\\)?)?[\\s:)\\.-]*', re.MULTILINE)\n",
        "LINE_LEADING_ENUM_RE = re.compile(r'(?m)^\\s*(?:[a-zA-Z]|\\d+)[\\)\\.]\\s+')\n",
        "MULTISPACE_RE = re.compile(r'[ \\t]+')\n",
        "MULTINEWLINE_RE = re.compile(r'\\n{3,}')\n",
        "\n",
        "# ---------- Cleaning functions ----------\n",
        "def clean_heading(h: str) -> str:\n",
        "    if not h:\n",
        "        return \"\"\n",
        "    cleaned = LEADING_NUMBERING_RE.sub(\"\", h).strip(\" :.-\\u2013\\u2014\")\n",
        "    return cleaned if cleaned else h.strip()\n",
        "\n",
        "def clean_text(t: str) -> str:\n",
        "    if not t:\n",
        "        return \"\"\n",
        "    t = BRACKETED_CITATION_RE.sub(\"\", t)\n",
        "    t = PAREN_YEAR_CITATION_RE.sub(\"\", t)\n",
        "    t = re.sub(r\"\\[\\s*\\]\", \"\", t)\n",
        "    t = LINE_LEADING_ENUM_RE.sub(\"\", t)\n",
        "    t = MULTISPACE_RE.sub(\" \", t)\n",
        "    t = t.replace(\"\\r\\n\", \"\\n\").replace(\"\\r\", \"\\n\")\n",
        "    t = MULTINEWLINE_RE.sub(\"\\n\\n\", t)\n",
        "    return t.strip()\n",
        "\n",
        "def simplify_paper(paper: Dict[str, Any]) -> Dict[str, Any]:\n",
        "    title = paper.get(\"title\", \"\").strip()\n",
        "    out_sections: List[Dict[str, str]] = []\n",
        "\n",
        "    # include abstract\n",
        "    abstract = (paper.get(\"abstract\") or \"\").strip()\n",
        "    if abstract:\n",
        "        out_sections.append({\"title\": \"Abstract\", \"content\": clean_text(abstract)})\n",
        "\n",
        "    # clean sections\n",
        "    for sec in paper.get(\"sections\", []):\n",
        "        heading = clean_heading(sec.get(\"heading\", \"\"))\n",
        "        if heading.lower() in {\"references\", \"reference\", \"bibliography\"}:\n",
        "            continue\n",
        "        text = clean_text(sec.get(\"text\", \"\"))\n",
        "        if heading or text:\n",
        "            out_sections.append({\"title\": heading or \"Section\", \"content\": text})\n",
        "\n",
        "    return {\"title\": title, \"sections\": out_sections}\n"
      ],
      "metadata": {
        "id": "YIih5bGRyQhw"
      },
      "execution_count": 7,
      "outputs": []
    },
    {
      "cell_type": "code",
      "source": [
        "for filename in os.listdir(INPUT_DIR):\n",
        "    if filename.endswith(\".json\"):\n",
        "        input_path = os.path.join(INPUT_DIR, filename)\n",
        "        with open(input_path, \"r\", encoding=\"utf-8\") as f:\n",
        "            data = json.load(f)\n",
        "        cleaned = simplify_paper(data)\n",
        "        output_path = os.path.join(OUTPUT_DIR, filename)\n",
        "        with open(output_path, \"w\", encoding=\"utf-8\") as f:\n",
        "            json.dump(cleaned, f, ensure_ascii=False, indent=2)\n",
        "        print(f\"Processed & saved: {filename}\")\n",
        "\n",
        "# Check one example\n",
        "example_file = os.listdir(OUTPUT_DIR)[0]\n",
        "with open(os.path.join(OUTPUT_DIR, example_file), \"r\", encoding=\"utf-8\") as f:\n",
        "    print(json.dumps(json.load(f), indent=2)[:1000])  # print first 1000 chars\n"
      ],
      "metadata": {
        "colab": {
          "base_uri": "https://localhost:8080/"
        },
        "id": "9RlPdxzVya7r",
        "outputId": "129241d8-b49b-43c4-f06c-bd39216ad7d2"
      },
      "execution_count": 8,
      "outputs": [
        {
          "output_type": "stream",
          "name": "stdout",
          "text": [
            "Processed & saved: Trading-Off Privacy- Utility- and Explainability in Deep Learning-Based Image Data Analysis.json\n",
            "Processed & saved: Privacy-Preserved Mobile Sensing through Hybrid Cloud Trust Framework.json\n",
            "Processed & saved: AI Ethics in Healthcare - A Survey.json\n",
            "Processed & saved: WIP Using Stories from Traditional Culture to Teach Virtue-Based Engineering Ethics.json\n",
            "Processed & saved: Exploring Translational Ethical Competency -TEC- in AI Design Conceptual Analysis and Methodological Reflections from a Pilot Study.json\n",
            "Processed & saved: The Perspective of Dimensional Perpetuity for Artificial Intelligence A Model on Socio-Legal and Political Evolution as a Challenge to Entrepreneurial Ethics.json\n",
            "Processed & saved: Enhancing Data Privacy in Edge-based Driver AI Monitoring Systems Through Adaptive Differential Privacy.json\n",
            "Processed & saved: Applying Communication Privacy Management Theory to Youth Privacy Management in AI Contexts.json\n",
            "Processed & saved: A Privacy-Leakage-Tolerance Based Noise Enhancing Strategy for Privacy Protection in Cloud Computing.json\n",
            "Processed & saved: Advanced Techniques for Protecting Privacy in Artificial Intelligence Powered Medical Systems.json\n",
            "Processed & saved: Privacy-Preserving Data Dissemination in Untrusted Cloud.json\n",
            "Processed & saved: An overview of privacy preserving schemes for industrial Internet of Things.json\n",
            "Processed & saved: Perceptions of AI Ethics on Social Media.json\n",
            "Processed & saved: Privacy-Preserving Keyword Search Schemes over Encrypted Cloud Data An Extensive Analysis.json\n",
            "Processed & saved: Distributed- Privacy-Aware Location Data Aggregation.json\n",
            "Processed & saved: Ethics of Artificial Intelligence in University Education.json\n",
            "Processed & saved: The Ethics of AI in Games.json\n",
            "Processed & saved: Press Release Ethics in AI Performative Ethics in for-Profit AI Companies.json\n",
            "Processed & saved: The potential for co-operatives to mitigate AI ethics catastrophes perspectives from media analysis.json\n",
            "Processed & saved: Guidelines to Develop AI Ethics Policy in Organizations Perspectives Informed from Two Different Countries- Laws.json\n",
            "Processed & saved: Explainable AI and Big Data Analytics for Data Security Risk and Privacy Issues in the Financial Industry.json\n",
            "Processed & saved: Introducing the concept of ikigai to the ethics of AI and of human enhancements.json\n",
            "Processed & saved: Computer Science Ethics Education in Australia - A Work in Progress.json\n",
            "Processed & saved: Security and Privacy Issues within the Cloud Computing.json\n",
            "Processed & saved: The IEEE Global Initiative on Ethics of Extended Reality -XR- Report--Extended Reality -XR- Ethics in Medicine.json\n",
            "Processed & saved: Deep Learning Framework with Explainable AI for Accurate and Interpretable Brain Tumor Segmentation.json\n",
            "Processed & saved: Imagine a More Ethical AI Using Stories to Develop Teens- Awareness and Understanding of Artificial Intelligence and its Societal Impacts.json\n",
            "Processed & saved: Understanding How Privacy and Data Protection Perceptions Shape Nigerian Journalists- Use of AI Tools A Work in Progress.json\n",
            "Processed & saved: Teaching AI Ethics in Technical and Professional Communication A Systematic Review.json\n",
            "Processed & saved: Ethics- Privacy- and Security Challenges in AI and Blockchain-Driven Digital Health Ecosystems.json\n",
            "Processed & saved: Unpacking Youth Privacy Management in AI Systems A Privacy Calculus Model Analysis.json\n",
            "Processed & saved: PccP A model for Preserving cloud computing Privacy.json\n",
            "Processed & saved: Towards a Stakeholder-Oriented Taxonomical Approach for Secure Cloud Computing.json\n",
            "Processed & saved: AI-Generated Privacy-Preserving Protocols for Cross-Cloud Data Sharing and Collaboration.json\n",
            "Processed & saved: Designing Artificial Intelligence with Privacy at the Center.json\n",
            "Processed & saved: Factors influencing information privacy concern in cloud computing environment.json\n",
            "Processed & saved: Ethics and Biomedical engineering education The continual defiance.json\n",
            "Processed & saved: PRIV-ML Analyzing Privacy Loss in Iterative Machine Learning with Differential Privacy.json\n",
            "Processed & saved: Narrative-Based AI Ethics Education for Emerging Technologies Leveraging -The Monkey-s Paw- for AI Alignment and Social Justice.json\n",
            "Processed & saved: The Ethics of AI in Literature Reflections On Representation and Responsibility.json\n",
            "Processed & saved: AI Model Training Data Privacy Protection Scheme Based on Local Differential Privacy.json\n",
            "Processed & saved: Robust and Secure Federated Learning With Verifiable Differential Privacy.json\n",
            "Processed & saved: Thou shalt not-A look at the ethics of copying software code.json\n",
            "Processed & saved: A Model for Using Ethical Theory to Specify Epistemic Goals for Explainable AI.json\n",
            "Processed & saved: Preserving privacy in medical images while still enabling AI-driven research A comprehensive review.json\n",
            "Processed & saved: Ethical AI Conundrum Accountability and Liability of AI decision making.json\n",
            "Processed & saved: Towards a global Code of Ethics for engineers.json\n",
            "Processed & saved: StopHateForProfit and the ethics of boycotting by corporations.json\n",
            "Processed & saved: Trust Me Over My Privacy Policy- Privacy Discrepancies in Romantic AI Chatbot Apps.json\n",
            "Processed & saved: Research on Data Encryption and Privacy Protection Technologies in Cloud Computing Environments.json\n",
            "Processed & saved: Are science- technology- and engineering now the most important subjects for ethics- Our need to respond.json\n",
            "Processed & saved: The privacy-aware access control system using attribute-and role-based access control in private cloud.json\n",
            "Processed & saved: Artificial Intelligence Ethics Anthropocentric Approach.json\n",
            "Processed & saved: Introducing graduate and undergraduate students to research and professional ethics at Columbia University.json\n",
            "Processed & saved: Mitigating Values Debt in Generative AI Responsible Engineering with Graph RAG.json\n",
            "Processed & saved: The Limits of Care A Critical Analysis of AI Companions- Capacity for Good Care.json\n",
            "Processed & saved: Interaction between ethics and technology.json\n",
            "Processed & saved: Ethical and Legal Implications of AI on Business and Employment Privacy- Bias- and Accountability.json\n",
            "Processed & saved: Efficient Framework Approach to Extract Privacy Issues in Cloud Computing.json\n",
            "Processed & saved: Privacy protected documents on openstack cloud.json\n",
            "Processed & saved: Real-Time Air Quality Monitoring with Edge AI and Machine Learning Algorithm.json\n",
            "Processed & saved: AI Ethics Impact Assessment based on Requirement Engineering.json\n",
            "Processed & saved: AI Ethics and Data Privacy compliance.json\n",
            "Processed & saved: Cloud intelligent track - Risk analysis and privacy data management in the cloud computing.json\n",
            "Processed & saved: Exploring the Privacy Paradox in AI Adoption A Data-Driven Analysis of User Engagement.json\n",
            "Processed & saved: Privacy Preserving Data Integration across Autonomous Cloud Services.json\n",
            "Processed & saved: Impact of AI Driven Predictive Privacy Mechanisms in UAV Integrated V2X 6G Networks.json\n",
            "Processed & saved: ETHAI implementation. A Co-Constructive way for Embedding Ethics in Healthcare AI Development.json\n",
            "Processed & saved: Fuzzy-based Encryption Mechanism for Privacy Preservation and Evaluation of Query Response Time in Cloud.json\n",
            "Processed & saved: Speech Act Theory and Ethics of Speech Processing as Distinct Stages the ethics of collecting- contextualizing and the releasing of -speech- data.json\n",
            "Processed & saved: Comparison of Privacy-Preserving Models Based on a Third-Party Auditor in Cloud Computing.json\n",
            "Processed & saved: Security and Privacy Challenges in Multi-Tenant Cloud Architectures A Comprehensive Analysis.json\n",
            "Processed & saved: A novel framework to prevent privacy breach in cloud data storage area service.json\n",
            "Processed & saved: SDG-Based AI Ethics An Analysis of Recent Computer Vision Research.json\n",
            "Processed & saved: Differential Privacy and k-Anonymity-Based Privacy Preserving Data Publishing Scheme With Minimal Loss of Statistical Information.json\n",
            "Processed & saved: Privacy Preserving Data Sharing in Cloud Using EAE Technique.json\n",
            "Processed & saved: Ethics of Artificial Intelligence for Cultural Heritage Opportunities and Challenges.json\n",
            "Processed & saved: Implementing AI Ethics in the Design of AI-assisted Rescue Robots.json\n",
            "Processed & saved: Privacy and Copyright Protection in Generative AI A Lifecycle Perspective.json\n",
            "Processed & saved: Methodological Reflections on Designing Surveys to Explore Faculty and Administrator Perceptions of AI Ethics Education.json\n",
            "Processed & saved: On current trends in security and privacy of cloud computing.json\n",
            "Processed & saved: Ethics of AI as practical ethics.json\n",
            "Processed & saved: Ethics in the Future of AI - A Philosophical Perspective for Collaborative Human and Machine Learning Know-What and Know-How.json\n",
            "Processed & saved: A privacy-preserving mechanism based on local differential privacy in edge computing.json\n",
            "Processed & saved: A Bibliometric View of AI Ethics Development.json\n",
            "Processed & saved: Privacy-Diffusion Privacy-Preserving Stable Diffusion Without Homomorphic Encryption.json\n",
            "Processed & saved: AI Governance and Ethics in Public Procurement Bridging the Gap Between Theory and Practice.json\n",
            "Processed & saved: Advancing AI Ethics in Engineering Curricula in Europe A Case Study Approach.json\n",
            "Processed & saved: CenterYou-- Lightweight Privacy Enforcement for Android Using Hybrid AI and Cloud Decision Support.json\n",
            "Processed & saved: Enhancing Healthcare Data Security and Privacy through AI-Driven Encryption and Privacy-Preserving Techniques.json\n",
            "Processed & saved: AI and Data Privacy in Business.json\n",
            "Processed & saved: Ethics and military engineering operations.json\n",
            "Processed & saved: Software Defined Privacy.json\n",
            "Processed & saved: Ethical AI Towards Defining a Collective Evaluation Framework.json\n",
            "Processed & saved: Advancing Ethical AI A Methodological and Empirical Approach to the AI Moral Code.json\n",
            "Processed & saved: Privacy Smells Detecting Privacy Problems in Cloud Architectures.json\n",
            "Processed & saved: A Privacy Maturity Model for Cloud Storage Services.json\n",
            "Processed & saved: Bridging Industry- Government- and Academia for Socially Responsible AI The CSEAI Initiative.json\n",
            "Processed & saved: An Analysis of Security and Privacy Issues in Smart Grid Software Architectures on Clouds.json\n",
            "Processed & saved: AI Governance A General Perspective.json\n",
            "Processed & saved: An approach for privacy policies negotiation in mobile health-Cloud environments.json\n",
            "Processed & saved: A Privacy Impact Assessment Tool for Cloud Computing.json\n",
            "Processed & saved: AI Ethics in IoT Involving Society in the Discussion.json\n",
            "Processed & saved: Ethics Documents in the Field of AI. Concepts- Achievements and Problems.json\n",
            "{\n",
            "  \"title\": \"Trading-Off Privacy, Utility, and Explainability in Deep Learning-Based Image Data Analysis\",\n",
            "  \"sections\": [\n",
            "    {\n",
            "      \"title\": \"Abstract\",\n",
            "      \"content\": \"This paper proposes a novel approach for multi-party collaborative data analysis problems, where analysis accuracy and divergence are required, as well as both privacy of shared data and explainability of results. The proposed approach aims at trading-off data privacy, decision explainability, and data utility by analytically relating these three measures, evaluating how they impact each other, and proposing a methodology to find the best possible tradeoff among them. In particular, given a set of requirements from the participants for a collaborative analysis problem, we propose a method to properly tune the parameters of privacy-preserving mechanisms and explainability techniques to be adopted by all participants, obtaining the best trade-off. The paper is focused on deep learning-based image data analysis probl\n"
          ]
        }
      ]
    }
  ]
}